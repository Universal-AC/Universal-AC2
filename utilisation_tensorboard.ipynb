{
 "cells": [
  {
   "cell_type": "code",
   "execution_count": 3,
   "metadata": {},
   "outputs": [],
   "source": [
    "import io\n",
    "import itertools\n",
    "\n",
    "import tensorflow as tf\n",
    "from tensorflow import keras\n",
    "\n",
    "import matplotlib.pyplot as plt\n",
    "import numpy as np\n",
    "import sklearn.metrics"
   ]
  },
  {
   "cell_type": "code",
   "execution_count": 14,
   "metadata": {},
   "outputs": [
    {
     "name": "stdout",
     "output_type": "stream",
     "text": [
      "The tensorboard extension is already loaded. To reload it, use:\n",
      "  %reload_ext tensorboard\n"
     ]
    }
   ],
   "source": [
    "try:\n",
    "  # %tensorflow_version only exists in Colab.\n",
    "  %tensorflow_version 2.x\n",
    "except Exception:\n",
    "  pass\n",
    "# Load the TensorBoard notebook extension.\n",
    "%load_ext tensorboard\n",
    "\n",
    "from tensorboard import notebook\n",
    "import os\n",
    "from datetime import datetime\n",
    "import shlex\n",
    "\n",
    "def kill_all_tensorboard():\n",
    "    \"\"\"\n",
    "    détruit tous les serveurs tensorboard\n",
    "    \"\"\"\n",
    "    import tempfile\n",
    "    path = os.path.join(tempfile.gettempdir(), \".tensorboard-info\")\n",
    "    for i in os.listdir(path) :\n",
    "        os.unlink(path+'\\\\'+i)\n",
    "    os.system(\"taskkill /F /IM tensorboard.exe\")\n",
    "    \n",
    "def kill_pid_tensorboard(pid):\n",
    "    \"\"\"\n",
    "    détruit le tensorboards correspondant au pid\n",
    "    \"\"\"\n",
    "    \n",
    "    import tempfile\n",
    "    try:\n",
    "        path = os.path.join(tempfile.gettempdir(), \".tensorboard-info\")\n",
    "        os.unlink(path+'\\\\pid-'+str(pid)+\".info\")\n",
    "    except:\n",
    "        print(\"Fichier introuvable\")\n",
    "    os.system(\"taskkill /F /PID \"+str(pid))\n",
    "    \n",
    "def kill_port_tensorboard(port):\n",
    "    \"\"\"\n",
    "    détruit les tensorboards utilisant le port indiqué\n",
    "    \"\"\"\n",
    "    occupied = port_occupied(port)\n",
    "    for i in port_occupied(port):\n",
    "        print(\"port {} occupé, kill pid {}\".format(port, i.pid))\n",
    "        kill_pid_tensorboard(i.pid)\n",
    "    \n",
    "def port_occupied(port):\n",
    "    \"\"\"\n",
    "    Retourne les tensorboard qui utilise le port indiqué\n",
    "    \"\"\"\n",
    "    l = []\n",
    "    for i in notebook.manager.get_all():\n",
    "        if i.port == port:\n",
    "            l += [i]\n",
    "    return l\n",
    "\n",
    "def launch_tensorboard(log_file, port = 6006):\n",
    "    \"\"\"\n",
    "    Contruit un serveur tensorboard au port indiqué à partir de log_file.\n",
    "    Si le port est déjà pris, détruit les anciens serveurs \n",
    "    \"\"\"\n",
    "    kill_port_tensorboard(port)\n",
    "    parsed_args = shlex.split(\"--logdir {} --port {}\".format(log_file,port), comments=True, posix=True)\n",
    "    start_result = notebook.manager.start(parsed_args, timeout=datetime.timedelta(seconds=10))\n",
    "    notebook.display(port)\n",
    "    \n",
    "def affiche_port(port):\n",
    "    \"\"\"\n",
    "    affiche le tensorboard du port indiqué\n",
    "    \"\"\"\n",
    "    notebook.display(port)\n",
    "    \n",
    "def affiche_all_tensorboard():\n",
    "    \"\"\"\n",
    "    affiche les serveurs tensorboard actifs\n",
    "    \"\"\"\n",
    "    l = notebook.manager.get_all()\n",
    "    for i in l:\n",
    "        print(\"pid : {} | port : {} | logdir : {}\".format(i.pid, i.port, i.logdir))\n"
   ]
  },
  {
   "cell_type": "code",
   "execution_count": 15,
   "metadata": {},
   "outputs": [
    {
     "name": "stdout",
     "output_type": "stream",
     "text": [
      "pid : 6924 | port : 8008 | logdir : logs/train_data\n"
     ]
    }
   ],
   "source": [
    "affiche_all_tensorboard()"
   ]
  },
  {
   "cell_type": "code",
   "execution_count": 6,
   "metadata": {},
   "outputs": [
    {
     "data": {
      "text/html": [
       "\n",
       "      <iframe id=\"tensorboard-frame-fce706a12faaa710\" width=\"100%\" height=\"800\" frameborder=\"0\">\n",
       "      </iframe>\n",
       "      <script>\n",
       "        (function() {\n",
       "          const frame = document.getElementById(\"tensorboard-frame-fce706a12faaa710\");\n",
       "          const url = new URL(\"/\", window.location);\n",
       "          url.port = 6006;\n",
       "          frame.src = url;\n",
       "        })();\n",
       "      </script>\n",
       "  "
      ],
      "text/plain": [
       "<IPython.core.display.HTML object>"
      ]
     },
     "metadata": {},
     "output_type": "display_data"
    }
   ],
   "source": [
    "affiche_port(6006)"
   ]
  },
  {
   "cell_type": "code",
   "execution_count": 7,
   "metadata": {},
   "outputs": [],
   "source": [
    "l = notebook.manager.get_all()"
   ]
  },
  {
   "cell_type": "code",
   "execution_count": 8,
   "metadata": {},
   "outputs": [],
   "source": [
    "# Download the data. The data is already divided into train and test.\n",
    "# The labels are integers representing classes.\n",
    "fashion_mnist = keras.datasets.fashion_mnist\n",
    "(train_images, train_labels), (test_images, test_labels) = \\\n",
    "    fashion_mnist.load_data()\n",
    "\n",
    "# Names of the integer classes, i.e., 0 -> T-short/top, 1 -> Trouser, etc.\n",
    "class_names = ['T-shirt/top', 'Trouser', 'Pullover', 'Dress', 'Coat', \n",
    "    'Sandal', 'Shirt', 'Sneaker', 'Bag', 'Ankle boot']\n"
   ]
  },
  {
   "cell_type": "code",
   "execution_count": 9,
   "metadata": {},
   "outputs": [
    {
     "name": "stdout",
     "output_type": "stream",
     "text": [
      "Shape:  (28, 28)\n",
      "Label:  9 -> Ankle boot\n"
     ]
    }
   ],
   "source": [
    "print(\"Shape: \", train_images[0].shape)\n",
    "print(\"Label: \", train_labels[0], \"->\", class_names[train_labels[0]])\n"
   ]
  },
  {
   "cell_type": "code",
   "execution_count": 10,
   "metadata": {},
   "outputs": [],
   "source": [
    "# Reshape the image for the Summary API.\n",
    "img = np.reshape(train_images[0], (-1, 28, 28, 1))\n"
   ]
  },
  {
   "cell_type": "code",
   "execution_count": 11,
   "metadata": {},
   "outputs": [
    {
     "name": "stderr",
     "output_type": "stream",
     "text": [
      "'rm' n'est pas reconnu en tant que commande interne\n",
      "ou externe, un programme ex‚cutable ou un fichier de commandes.\n"
     ]
    }
   ],
   "source": [
    "# Clear out any prior log data.\n",
    "!rm -rf logs\n",
    "\n",
    "# Sets up a timestamped log directory.\n",
    "logdir = \"logs/train_data/\" + datetime.now().strftime(\"%Y%m%d-%H%M%S\")\n",
    "# Creates a file writer for the log directory.\n",
    "file_writer = tf.summary.create_file_writer(logdir)\n",
    "\n",
    "# Using the file writer, log the reshaped image.\n",
    "with file_writer.as_default():\n",
    "  tf.summary.image(\"Training data\", img, step=0)"
   ]
  },
  {
   "cell_type": "code",
   "execution_count": 12,
   "metadata": {},
   "outputs": [
    {
     "data": {
      "text/plain": [
       "ERROR: Timed out waiting for TensorBoard to start. It may still be running as pid 10256."
      ]
     },
     "metadata": {},
     "output_type": "display_data"
    }
   ],
   "source": [
    "%tensorboard --logdir logs/train_data"
   ]
  },
  {
   "cell_type": "code",
   "execution_count": 16,
   "metadata": {},
   "outputs": [],
   "source": [
    "kill_pid_tensorboard(13088)"
   ]
  },
  {
   "cell_type": "code",
   "execution_count": 17,
   "metadata": {},
   "outputs": [
    {
     "name": "stdout",
     "output_type": "stream",
     "text": [
      "No known TensorBoard instances running.\n"
     ]
    }
   ],
   "source": [
    "notebook.list()"
   ]
  },
  {
   "cell_type": "code",
   "execution_count": 41,
   "metadata": {},
   "outputs": [],
   "source": [
    "kill_all_tensorboard()"
   ]
  },
  {
   "cell_type": "code",
   "execution_count": 53,
   "metadata": {},
   "outputs": [
    {
     "data": {
      "text/plain": [
       "5700"
      ]
     },
     "execution_count": 53,
     "metadata": {},
     "output_type": "execute_result"
    }
   ],
   "source": [
    "notebook.manager.get_all()[0].pid"
   ]
  },
  {
   "cell_type": "code",
   "execution_count": 67,
   "metadata": {},
   "outputs": [
    {
     "name": "stdout",
     "output_type": "stream",
     "text": [
      "port 8008 occupé, kill pid 1472\n",
      "Selecting TensorBoard with logdir logs/train_data (started 0:00:07 ago; port 8008, pid 6924).\n"
     ]
    },
    {
     "data": {
      "text/html": [
       "\n",
       "      <iframe id=\"tensorboard-frame-a64416a0cabf0425\" width=\"100%\" height=\"800\" frameborder=\"0\">\n",
       "      </iframe>\n",
       "      <script>\n",
       "        (function() {\n",
       "          const frame = document.getElementById(\"tensorboard-frame-a64416a0cabf0425\");\n",
       "          const url = new URL(\"/\", window.location);\n",
       "          url.port = 8008;\n",
       "          frame.src = url;\n",
       "        })();\n",
       "      </script>\n",
       "  "
      ],
      "text/plain": [
       "<IPython.core.display.HTML object>"
      ]
     },
     "metadata": {},
     "output_type": "display_data"
    }
   ],
   "source": [
    "launch_tensorboard('logs/train_data', port = 8008)"
   ]
  },
  {
   "cell_type": "code",
   "execution_count": 32,
   "metadata": {},
   "outputs": [
    {
     "name": "stdout",
     "output_type": "stream",
     "text": [
      "Selecting TensorBoard with logdir logs/train_data (started 0:00:07 ago; port 6006, pid 7548).\n"
     ]
    },
    {
     "data": {
      "text/html": [
       "\n",
       "      <iframe id=\"tensorboard-frame-fdf5c65a06d7c221\" width=\"100%\" height=\"800\" frameborder=\"0\">\n",
       "      </iframe>\n",
       "      <script>\n",
       "        (function() {\n",
       "          const frame = document.getElementById(\"tensorboard-frame-fdf5c65a06d7c221\");\n",
       "          const url = new URL(\"/\", window.location);\n",
       "          url.port = 6006;\n",
       "          frame.src = url;\n",
       "        })();\n",
       "      </script>\n",
       "  "
      ],
      "text/plain": [
       "<IPython.core.display.HTML object>"
      ]
     },
     "metadata": {},
     "output_type": "display_data"
    }
   ],
   "source": [
    "with file_writer.as_default():\n",
    "  # Don't forget to reshape.\n",
    "  images = np.reshape(train_images[0:25], (-1, 28, 28, 1))\n",
    "  tf.summary.image(\"25 training data examples\", images, max_outputs=25, step=0)\n",
    "\n"
   ]
  },
  {
   "cell_type": "code",
   "execution_count": 33,
   "metadata": {},
   "outputs": [
    {
     "name": "stdout",
     "output_type": "stream",
     "text": [
      "Known TensorBoard instances:\n",
      "  - port 6006: logdir logs/train_data (started 0:00:21 ago; pid 7548)\n"
     ]
    }
   ],
   "source": [
    "notebook.list()"
   ]
  }
 ],
 "metadata": {
  "kernelspec": {
   "display_name": "Python 3",
   "language": "python",
   "name": "python3"
  },
  "language_info": {
   "codemirror_mode": {
    "name": "ipython",
    "version": 3
   },
   "file_extension": ".py",
   "mimetype": "text/x-python",
   "name": "python",
   "nbconvert_exporter": "python",
   "pygments_lexer": "ipython3",
   "version": "3.7.7"
  }
 },
 "nbformat": 4,
 "nbformat_minor": 4
}
